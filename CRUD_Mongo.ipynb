{
 "cells": [
  {
   "cell_type": "code",
   "execution_count": 1,
   "id": "239f88f5",
   "metadata": {},
   "outputs": [
    {
     "name": "stdout",
     "output_type": "stream",
     "text": [
      "Defaulting to user installation because normal site-packages is not writeable\n",
      "\u001b[33mWARNING: Ignoring invalid distribution -cipy (/usr/local/lib/python3.8/dist-packages)\u001b[0m\u001b[33m\n",
      "\u001b[0m\u001b[33mWARNING: Ignoring invalid distribution -ensorboard-data-server (/usr/local/lib/python3.8/dist-packages)\u001b[0m\u001b[33m\n",
      "\u001b[0m\u001b[33mWARNING: Ignoring invalid distribution -ensorflow-estimator (/usr/local/lib/python3.8/dist-packages)\u001b[0m\u001b[33m\n",
      "\u001b[0m\u001b[33mWARNING: Ignoring invalid distribution -latbuffers (/usr/local/lib/python3.8/dist-packages)\u001b[0m\u001b[33m\n",
      "\u001b[0m\u001b[33mWARNING: Ignoring invalid distribution -cipy (/usr/local/lib/python3.8/dist-packages)\u001b[0m\u001b[33m\n",
      "\u001b[0m\u001b[33mWARNING: Ignoring invalid distribution -ensorboard-data-server (/usr/local/lib/python3.8/dist-packages)\u001b[0m\u001b[33m\n",
      "\u001b[0m\u001b[33mWARNING: Ignoring invalid distribution -ensorflow-estimator (/usr/local/lib/python3.8/dist-packages)\u001b[0m\u001b[33m\n",
      "\u001b[0m\u001b[33mWARNING: Ignoring invalid distribution -latbuffers (/usr/local/lib/python3.8/dist-packages)\u001b[0m\u001b[33m\n",
      "\u001b[0mRequirement already satisfied: pymongo in /usr/local/lib/python3.8/dist-packages (4.3.3)\n",
      "Requirement already satisfied: dnspython<3.0.0,>=1.16.0 in /usr/lib/python3/dist-packages (from pymongo) (1.16.0)\n",
      "\u001b[33mWARNING: Error parsing dependencies of gym: Expected matching RIGHT_PARENTHESIS for LEFT_PARENTHESIS, after version specifier\n",
      "    opencv-python (>=3.) ; extra == 'all'\n",
      "                  ~~~~^\u001b[0m\u001b[33m\n",
      "\u001b[0m\u001b[33mWARNING: Error parsing dependencies of textract: .* suffix can only be used with `==` or `!=` operators\n",
      "    extract-msg (<=0.29.*)\n",
      "                 ~~~~~~~^\u001b[0m\u001b[33m\n",
      "\u001b[0m\u001b[33mWARNING: Ignoring invalid distribution -cipy (/usr/local/lib/python3.8/dist-packages)\u001b[0m\u001b[33m\n",
      "\u001b[0m\u001b[33mWARNING: Ignoring invalid distribution -ensorboard-data-server (/usr/local/lib/python3.8/dist-packages)\u001b[0m\u001b[33m\n",
      "\u001b[0m\u001b[33mWARNING: Ignoring invalid distribution -ensorflow-estimator (/usr/local/lib/python3.8/dist-packages)\u001b[0m\u001b[33m\n",
      "\u001b[0m\u001b[33mWARNING: Ignoring invalid distribution -latbuffers (/usr/local/lib/python3.8/dist-packages)\u001b[0m\u001b[33m\n",
      "\u001b[0m\u001b[33mWARNING: Error parsing dependencies of distro-info: Invalid version: '0.23ubuntu1'\u001b[0m\u001b[33m\n",
      "\u001b[0m\u001b[33mWARNING: Error parsing dependencies of gpg: Invalid version: '1.13.1-unknown'\u001b[0m\u001b[33m\n",
      "\u001b[0m\u001b[33mWARNING: Error parsing dependencies of python-debian: Invalid version: '0.1.36ubuntu1'\u001b[0m\u001b[33m\n",
      "\u001b[0m"
     ]
    }
   ],
   "source": [
    "!pip install pymongo"
   ]
  },
  {
   "cell_type": "code",
   "execution_count": null,
   "id": "8488c5c6",
   "metadata": {},
   "outputs": [
    {
     "name": "stdout",
     "output_type": "stream",
     "text": [
      "<bound method Cursor.sort of <pymongo.cursor.Cursor object at 0x7ffab5930eb0>>\n"
     ]
    }
   ],
   "source": [
    "#CREATING NEW DATABASE AND INSERTING RECORDS\n",
    "from pymongo import MongoClient\n",
    "client=MongoClient('mongodb://localhost:27017/')\n",
    "db=client['student_data_janitha']\n",
    "collection=db['students']\n",
    "document=[{'name':'cody','age':15,'city':'chennai'},\n",
    "          {'name':'nina','age':14,'city':'mumbai'},\n",
    "          {'name':'jj','age':13,'city':'mysore'},\n",
    "          {'name':'cece','age':12,'city':'pune'},\n",
    "          {'name':'bella','age':14,'city':'delhi'}]\n",
    "collection.insert_many(document)\n"
   ]
  },
  {
   "cell_type": "code",
   "execution_count": null,
   "id": "0cdacaa3",
   "metadata": {},
   "outputs": [
    {
     "name": "stdout",
     "output_type": "stream",
     "text": [
      "{'_id': ObjectId('686cdd3f09c449daf393a301'), 'name': 'cody', 'age': 15, 'city': 'chennai'}\n",
      "{'_id': ObjectId('686cddc609c449daf393a307'), 'name': 'cody', 'age': 15, 'city': 'chennai'}\n",
      "{'_id': ObjectId('686cddc809c449daf393a30d'), 'name': 'cody', 'age': 15, 'city': 'chennai'}\n",
      "{'_id': ObjectId('686cddd209c449daf393a313'), 'name': 'cody', 'age': 15, 'city': 'chennai'}\n",
      "{'_id': ObjectId('686cdd3f09c449daf393a301'), 'name': 'cody', 'age': 15, 'city': 'chennai'}\n",
      "{'_id': ObjectId('686cdd3f09c449daf393a302'), 'name': 'nina', 'age': 14, 'city': 'mumbai'}\n",
      "{'_id': ObjectId('686cdd3f09c449daf393a303'), 'name': 'jj', 'age': 13, 'city': 'mysore'}\n",
      "{'_id': ObjectId('686cdd3f09c449daf393a304'), 'name': 'cece', 'age': 12, 'city': 'pune'}\n",
      "{'_id': ObjectId('686cdd3f09c449daf393a305'), 'name': 'bella', 'age': 14, 'city': 'delhi'}\n",
      "{'_id': ObjectId('686cddc609c449daf393a307'), 'name': 'cody', 'age': 15, 'city': 'chennai'}\n",
      "{'_id': ObjectId('686cddc609c449daf393a308'), 'name': 'nina', 'age': 14, 'city': 'mumbai'}\n",
      "{'_id': ObjectId('686cddc609c449daf393a309'), 'name': 'jj', 'age': 13, 'city': 'mysore'}\n",
      "{'_id': ObjectId('686cddc609c449daf393a30a'), 'name': 'cece', 'age': 12, 'city': 'pune'}\n",
      "{'_id': ObjectId('686cddc609c449daf393a30b'), 'name': 'bella', 'age': 14, 'city': 'delhi'}\n",
      "{'_id': ObjectId('686cddc809c449daf393a30d'), 'name': 'cody', 'age': 15, 'city': 'chennai'}\n",
      "{'_id': ObjectId('686cddc809c449daf393a30e'), 'name': 'nina', 'age': 14, 'city': 'mumbai'}\n",
      "{'_id': ObjectId('686cddc809c449daf393a30f'), 'name': 'jj', 'age': 13, 'city': 'mysore'}\n",
      "{'_id': ObjectId('686cddc809c449daf393a310'), 'name': 'cece', 'age': 12, 'city': 'pune'}\n",
      "{'_id': ObjectId('686cddc809c449daf393a311'), 'name': 'bella', 'age': 14, 'city': 'delhi'}\n",
      "{'_id': ObjectId('686cddd209c449daf393a313'), 'name': 'cody', 'age': 15, 'city': 'chennai'}\n",
      "{'_id': ObjectId('686cddd209c449daf393a314'), 'name': 'nina', 'age': 14, 'city': 'mumbai'}\n",
      "{'_id': ObjectId('686cddd209c449daf393a315'), 'name': 'jj', 'age': 13, 'city': 'mysore'}\n",
      "{'_id': ObjectId('686cddd209c449daf393a316'), 'name': 'cece', 'age': 12, 'city': 'pune'}\n",
      "{'_id': ObjectId('686cddd209c449daf393a317'), 'name': 'bella', 'age': 14, 'city': 'delhi'}\n"
     ]
    }
   ],
   "source": [
    "#READING/FINDING A RECORD AND PRINTING\n",
    "result=collection.find({'name':'cody'})\n",
    "for i in result:\n",
    "    print(i)\n",
    "\n",
    "#READING/PRINTING ALL THE RECORDS\n",
    "result=collection.find()\n",
    "for i in result:\n",
    "    print(i)"
   ]
  },
  {
   "cell_type": "code",
   "execution_count": 15,
   "id": "3057cc19",
   "metadata": {},
   "outputs": [
    {
     "name": "stdout",
     "output_type": "stream",
     "text": [
      "Document Updated. Matched 1. Modified:1\n"
     ]
    }
   ],
   "source": [
    "#UPDATING A RECORD\n",
    "result=collection.update_one({'name':'cody'},{'$set':{'city':'CODYSPLACE'}})\n",
    "if result.matched_count>0:\n",
    "    print(f\"Document Updated. Matched {result.matched_count}. Modified:{result.modified_count}\")\n",
    "else:\n",
    "    print(\"No matching document found!!!!!!!\")"
   ]
  },
  {
   "cell_type": "code",
   "execution_count": 16,
   "id": "1a5c4d76",
   "metadata": {},
   "outputs": [
    {
     "name": "stdout",
     "output_type": "stream",
     "text": [
      "{'_id': ObjectId('686cdd3f09c449daf393a301'), 'name': 'cody', 'age': 15, 'city': 'CODYSPLACE'}\n",
      "{'_id': ObjectId('686cdd3f09c449daf393a302'), 'name': 'nina', 'age': 14, 'city': 'mumbai'}\n",
      "{'_id': ObjectId('686cdd3f09c449daf393a303'), 'name': 'jj', 'age': 13, 'city': 'mysore'}\n",
      "{'_id': ObjectId('686cdd3f09c449daf393a304'), 'name': 'cece', 'age': 12, 'city': 'pune'}\n",
      "{'_id': ObjectId('686cdd3f09c449daf393a305'), 'name': 'bella', 'age': 14, 'city': 'delhi'}\n",
      "{'_id': ObjectId('686cddc609c449daf393a307'), 'name': 'cody', 'age': 15, 'city': 'chennai'}\n",
      "{'_id': ObjectId('686cddc609c449daf393a308'), 'name': 'nina', 'age': 14, 'city': 'mumbai'}\n",
      "{'_id': ObjectId('686cddc609c449daf393a309'), 'name': 'jj', 'age': 13, 'city': 'mysore'}\n",
      "{'_id': ObjectId('686cddc609c449daf393a30a'), 'name': 'cece', 'age': 12, 'city': 'pune'}\n",
      "{'_id': ObjectId('686cddc609c449daf393a30b'), 'name': 'bella', 'age': 14, 'city': 'delhi'}\n",
      "{'_id': ObjectId('686cddc809c449daf393a30d'), 'name': 'cody', 'age': 15, 'city': 'chennai'}\n",
      "{'_id': ObjectId('686cddc809c449daf393a30e'), 'name': 'nina', 'age': 14, 'city': 'mumbai'}\n",
      "{'_id': ObjectId('686cddc809c449daf393a30f'), 'name': 'jj', 'age': 13, 'city': 'mysore'}\n",
      "{'_id': ObjectId('686cddc809c449daf393a310'), 'name': 'cece', 'age': 12, 'city': 'pune'}\n",
      "{'_id': ObjectId('686cddc809c449daf393a311'), 'name': 'bella', 'age': 14, 'city': 'delhi'}\n",
      "{'_id': ObjectId('686cddd209c449daf393a313'), 'name': 'cody', 'age': 15, 'city': 'chennai'}\n",
      "{'_id': ObjectId('686cddd209c449daf393a314'), 'name': 'nina', 'age': 14, 'city': 'mumbai'}\n",
      "{'_id': ObjectId('686cddd209c449daf393a315'), 'name': 'jj', 'age': 13, 'city': 'mysore'}\n",
      "{'_id': ObjectId('686cddd209c449daf393a316'), 'name': 'cece', 'age': 12, 'city': 'pune'}\n",
      "{'_id': ObjectId('686cddd209c449daf393a317'), 'name': 'bella', 'age': 14, 'city': 'delhi'}\n"
     ]
    }
   ],
   "source": [
    "result=collection.find()\n",
    "for i in result:\n",
    "    print(i)"
   ]
  },
  {
   "cell_type": "code",
   "execution_count": 17,
   "id": "d5ce234f",
   "metadata": {},
   "outputs": [
    {
     "name": "stdout",
     "output_type": "stream",
     "text": [
      "Document Updated. Matched 4. Modified:3\n"
     ]
    }
   ],
   "source": [
    "#UPDATING MULTIPLE RECORDS\n",
    "result=collection.update_many({'name':'cody'},{'$set':{'city':'CODYSPLACE'}})\n",
    "if result.matched_count>0:\n",
    "    print(f\"Document Updated. Matched {result.matched_count}. Modified:{result.modified_count}\")\n",
    "else:\n",
    "    print(\"No matching document found!!!!!!!\")"
   ]
  },
  {
   "cell_type": "code",
   "execution_count": 18,
   "id": "6f1d911d",
   "metadata": {},
   "outputs": [
    {
     "name": "stdout",
     "output_type": "stream",
     "text": [
      "{'_id': ObjectId('686cdd3f09c449daf393a301'), 'name': 'cody', 'age': 15, 'city': 'CODYSPLACE'}\n",
      "{'_id': ObjectId('686cdd3f09c449daf393a302'), 'name': 'nina', 'age': 14, 'city': 'mumbai'}\n",
      "{'_id': ObjectId('686cdd3f09c449daf393a303'), 'name': 'jj', 'age': 13, 'city': 'mysore'}\n",
      "{'_id': ObjectId('686cdd3f09c449daf393a304'), 'name': 'cece', 'age': 12, 'city': 'pune'}\n",
      "{'_id': ObjectId('686cdd3f09c449daf393a305'), 'name': 'bella', 'age': 14, 'city': 'delhi'}\n",
      "{'_id': ObjectId('686cddc609c449daf393a307'), 'name': 'cody', 'age': 15, 'city': 'CODYSPLACE'}\n",
      "{'_id': ObjectId('686cddc609c449daf393a308'), 'name': 'nina', 'age': 14, 'city': 'mumbai'}\n",
      "{'_id': ObjectId('686cddc609c449daf393a309'), 'name': 'jj', 'age': 13, 'city': 'mysore'}\n",
      "{'_id': ObjectId('686cddc609c449daf393a30a'), 'name': 'cece', 'age': 12, 'city': 'pune'}\n",
      "{'_id': ObjectId('686cddc609c449daf393a30b'), 'name': 'bella', 'age': 14, 'city': 'delhi'}\n",
      "{'_id': ObjectId('686cddc809c449daf393a30d'), 'name': 'cody', 'age': 15, 'city': 'CODYSPLACE'}\n",
      "{'_id': ObjectId('686cddc809c449daf393a30e'), 'name': 'nina', 'age': 14, 'city': 'mumbai'}\n",
      "{'_id': ObjectId('686cddc809c449daf393a30f'), 'name': 'jj', 'age': 13, 'city': 'mysore'}\n",
      "{'_id': ObjectId('686cddc809c449daf393a310'), 'name': 'cece', 'age': 12, 'city': 'pune'}\n",
      "{'_id': ObjectId('686cddc809c449daf393a311'), 'name': 'bella', 'age': 14, 'city': 'delhi'}\n",
      "{'_id': ObjectId('686cddd209c449daf393a313'), 'name': 'cody', 'age': 15, 'city': 'CODYSPLACE'}\n",
      "{'_id': ObjectId('686cddd209c449daf393a314'), 'name': 'nina', 'age': 14, 'city': 'mumbai'}\n",
      "{'_id': ObjectId('686cddd209c449daf393a315'), 'name': 'jj', 'age': 13, 'city': 'mysore'}\n",
      "{'_id': ObjectId('686cddd209c449daf393a316'), 'name': 'cece', 'age': 12, 'city': 'pune'}\n",
      "{'_id': ObjectId('686cddd209c449daf393a317'), 'name': 'bella', 'age': 14, 'city': 'delhi'}\n"
     ]
    }
   ],
   "source": [
    "result=collection.find()\n",
    "for i in result:\n",
    "    print(i)"
   ]
  },
  {
   "cell_type": "code",
   "execution_count": null,
   "id": "79b65034",
   "metadata": {},
   "outputs": [],
   "source": [
    "#QUERY: Fetch documents sorted by 'age' in ascending order and limit to 5 records\n",
    "result=collection.find().sort('age',1).limit(5) #1 is for ascending and 2 is for descending"
   ]
  },
  {
   "cell_type": "code",
   "execution_count": 24,
   "id": "64afa653",
   "metadata": {},
   "outputs": [
    {
     "name": "stdout",
     "output_type": "stream",
     "text": [
      "{'_id': ObjectId('686cddc809c449daf393a310'), 'name': 'cece', 'age': 12, 'city': 'pune'}\n",
      "{'_id': ObjectId('686cdd3f09c449daf393a304'), 'name': 'cece', 'age': 12, 'city': 'pune'}\n",
      "{'_id': ObjectId('686cddd209c449daf393a316'), 'name': 'cece', 'age': 12, 'city': 'pune'}\n",
      "{'_id': ObjectId('686cddc609c449daf393a30a'), 'name': 'cece', 'age': 12, 'city': 'pune'}\n",
      "{'_id': ObjectId('686cddc809c449daf393a30f'), 'name': 'jj', 'age': 13, 'city': 'mysore'}\n"
     ]
    }
   ],
   "source": [
    "for i in result:\n",
    "    print(i)"
   ]
  }
 ],
 "metadata": {
  "kernelspec": {
   "display_name": "Python 3",
   "language": "python",
   "name": "python3"
  },
  "language_info": {
   "codemirror_mode": {
    "name": "ipython",
    "version": 3
   },
   "file_extension": ".py",
   "mimetype": "text/x-python",
   "name": "python",
   "nbconvert_exporter": "python",
   "pygments_lexer": "ipython3",
   "version": "3.8.10"
  }
 },
 "nbformat": 4,
 "nbformat_minor": 5
}
